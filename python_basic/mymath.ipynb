{
 "cells": [
  {
   "cell_type": "markdown",
   "metadata": {},
   "source": [
    "# ipython notebook vs. python script"
   ]
  },
  {
   "cell_type": "code",
   "execution_count": 4,
   "metadata": {
    "collapsed": false
   },
   "outputs": [
    {
     "name": "stdout",
     "output_type": "stream",
     "text": [
      "[0 1 2 3 4]\n",
      "[  0.   1.   4.   9.  16.]\n",
      "[ 0  1  4  9 16]\n"
     ]
    }
   ],
   "source": [
    "import numpy as np\n",
    "\n",
    "n = 5\n",
    "x = np.arange(n)\n",
    "y = np.zeros(n)\n",
    "for i in range(n):\n",
    "    y[i] = x[i]*x[i] \n",
    "z = x*x\n",
    "print(x)\n",
    "print(y)\n",
    "print(z)\n",
    "    "
   ]
  },
  {
   "cell_type": "code",
   "execution_count": 5,
   "metadata": {
    "collapsed": true
   },
   "outputs": [],
   "source": [
    "import matplotlib.pylab as plt\n",
    "plt.plot(x,y)\n",
    "plt.plot(x,z)\n",
    "plt.show()"
   ]
  },
  {
   "cell_type": "markdown",
   "metadata": {},
   "source": [
    "### converting this notebook to a  python script\n",
    "\n",
    "When you run this notebook it will pop up a simple plot.\n",
    "You can save this notebook (.ipynb file) as a python script and run it from the unix command line as\n",
    "follows:\n",
    "    \n",
    "    python mymath.py\n",
    "    \n",
    "or if you edit this file and as first line add\n",
    "\n",
    "    #! /usr/bin/env python\n",
    "    \n",
    "and make this script executable\n",
    "\n",
    "    chmod +x mymath.py\n",
    "    \n",
    "you can then run it as follows:\n",
    "\n",
    "    ./mymath.py\n",
    "    \n"
   ]
  },
  {
   "cell_type": "code",
   "execution_count": null,
   "metadata": {
    "collapsed": true
   },
   "outputs": [],
   "source": []
  }
 ],
 "metadata": {
  "kernelspec": {
   "display_name": "Python 3",
   "language": "python",
   "name": "python3"
  },
  "language_info": {
   "codemirror_mode": {
    "name": "ipython",
    "version": 3
   },
   "file_extension": ".py",
   "mimetype": "text/x-python",
   "name": "python",
   "nbconvert_exporter": "python",
   "pygments_lexer": "ipython3",
   "version": "3.5.2"
  }
 },
 "nbformat": 4,
 "nbformat_minor": 0
}
