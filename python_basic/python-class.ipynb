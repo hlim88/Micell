{
 "cells": [
  {
   "cell_type": "markdown",
   "metadata": {},
   "source": [
    "## Python Classes\n",
    "\n",
    "\"*everything in python is an object*\"      \n",
    "\n",
    "\"*object oriented programming*\"\n",
    "\n",
    "```\n",
    "import cars\n",
    "\n",
    "mycar = cars.Toyota(\"prius\")\n",
    "mycar.start()\n",
    "mycar.setSpeed(20.0)\n",
    "mycar.setDirection(20, units=\"degrees\")\n",
    "mycar.drive(2.0)\n",
    "mycar.fly()\n",
    "```"
   ]
  },
  {
   "cell_type": "code",
   "execution_count": null,
   "metadata": {
    "collapsed": false
   },
   "outputs": [],
   "source": [
    "class Complex(object):\n",
    "    \"\"\" this is my simple class describing a complex number\"\"\"\n",
    "    def __init__(self, Re=0.0, Im=0.0):\n",
    "        self.Re = Re\n",
    "        self.Im = Im\n",
    "        \n",
    "    def print(self):\n",
    "        print(\"(%g,%g)\" % (self.Re,self.Im))\n",
    "        \n",
    "    def Real(self):\n",
    "        return self.Re\n",
    "    \n",
    "    def Imag(self):\n",
    "        return self.Im\n",
    "    \n",
    "    def __add__(self,z):\n",
    "        x = self.Re + z.Real()\n",
    "        y = self.Im + z.Imag()\n",
    "        return Complex(x,y)\n",
    "    \n",
    "    def __str__(self):\n",
    "        return \"xxx\"         # not yet implemented   \n",
    "    \n",
    "    def plot(self):\n",
    "        print(\"I cannot plot %s\"  % str(self))\n",
    "        \n",
    "        "
   ]
  },
  {
   "cell_type": "code",
   "execution_count": null,
   "metadata": {
    "collapsed": true
   },
   "outputs": [],
   "source": [
    "a = Complex(0,1)\n",
    "b = Complex(1,0)"
   ]
  },
  {
   "cell_type": "code",
   "execution_count": null,
   "metadata": {
    "collapsed": false
   },
   "outputs": [],
   "source": [
    "a.print()\n",
    "b.print()\n"
   ]
  },
  {
   "cell_type": "code",
   "execution_count": null,
   "metadata": {
    "collapsed": false
   },
   "outputs": [],
   "source": [
    "c=a+b\n",
    "c.print()"
   ]
  },
  {
   "cell_type": "code",
   "execution_count": null,
   "metadata": {
    "collapsed": false
   },
   "outputs": [],
   "source": [
    "c.plot()\n"
   ]
  },
  {
   "cell_type": "code",
   "execution_count": null,
   "metadata": {
    "collapsed": false
   },
   "outputs": [],
   "source": [
    "print(c)"
   ]
  },
  {
   "cell_type": "code",
   "execution_count": null,
   "metadata": {
    "collapsed": false
   },
   "outputs": [],
   "source": [
    "type(c)"
   ]
  }
 ],
 "metadata": {
  "kernelspec": {
   "display_name": "Python 3",
   "language": "python",
   "name": "python3"
  },
  "language_info": {
   "codemirror_mode": {
    "name": "ipython",
    "version": 3
   },
   "file_extension": ".py",
   "mimetype": "text/x-python",
   "name": "python",
   "nbconvert_exporter": "python",
   "pygments_lexer": "ipython3",
   "version": "3.5.2"
  }
 },
 "nbformat": 4,
 "nbformat_minor": 0
}
