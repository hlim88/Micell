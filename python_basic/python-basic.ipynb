{
 "cells": [
  {
   "cell_type": "markdown",
   "metadata": {},
   "source": [
    "# Some Very Basic Python\n",
    "\n",
    "\n",
    "Showing some very basic ppython: variables, printing, control structures, lists and arrays, math and plotting:\n",
    "\n",
    "### Variables and printing them\n"
   ]
  },
  {
   "cell_type": "code",
   "execution_count": null,
   "metadata": {
    "collapsed": false
   },
   "outputs": [],
   "source": [
    "#  setting a variable in python uses dynamic typing\n",
    "a = 1.23\n",
    "\n",
    "# in this cell, several python commands can be given. Execute this cell with \"SHIFT-ENTER\"\n",
    "\n",
    "#  although just writing the variable will show it's value, but this is not the recommended\n",
    "#  way, because per cell only the last one will be printed and stored in the out[]\n",
    "#  list that the notebook maintains, use the print() function for this, which we will see below.\n",
    "\n",
    "a\n",
    "a+1"
   ]
  },
  {
   "cell_type": "markdown",
   "metadata": {
    "collapsed": false
   },
   "source": [
    "The right way to print is using the official **print()** function in python\n",
    "and this way you can also print out multiple lines while the cell is executing, but no output value will be added to the Out[] list.\n"
   ]
  },
  {
   "cell_type": "code",
   "execution_count": null,
   "metadata": {
    "collapsed": false
   },
   "outputs": [],
   "source": [
    "print(a)\n",
    "print(type(a))\n"
   ]
  },
  {
   "cell_type": "markdown",
   "metadata": {},
   "source": [
    "Now you can see that each call to **print()** will cause output on a new line,and also note they are not in the **Out[]** list\n",
    "\n",
    "overwriting the same variable , now as a string"
   ]
  },
  {
   "cell_type": "code",
   "execution_count": null,
   "metadata": {
    "collapsed": false
   },
   "outputs": [],
   "source": [
    "\n",
    "a=111\n",
    "a=\"1.23\"\n",
    "print(a,type(a))"
   ]
  },
  {
   "cell_type": "code",
   "execution_count": null,
   "metadata": {
    "collapsed": false
   },
   "outputs": [],
   "source": [
    "a,type(a)"
   ]
  },
  {
   "cell_type": "code",
   "execution_count": null,
   "metadata": {
    "collapsed": false
   },
   "outputs": [],
   "source": [
    "# checking the value of the variable again\n",
    "a\n"
   ]
  },
  {
   "cell_type": "markdown",
   "metadata": {},
   "source": [
    "btw, did we tell you that if you know latex, you can do some nice math here as well:\n",
    "\n",
    "$$\n",
    "      { v^2 \\over r } = {{ G. M(<r) } \\over r^2}\n",
    "$$\n",
    "*neat, eh?*\n",
    "\n",
    "\n",
    "### Python versions\n",
    "\n",
    "Python3 should be the de-facto standard, but Python2 is still being used today. So safeguard printing so this notebook can still be used in python2:"
   ]
  },
  {
   "cell_type": "code",
   "execution_count": null,
   "metadata": {
    "collapsed": false
   },
   "outputs": [],
   "source": [
    "from __future__ import print_function"
   ]
  },
  {
   "cell_type": "markdown",
   "metadata": {},
   "source": [
    "Now we can **print(pi)** in python2.  The old style would be **print pi**, which does not work in python3!"
   ]
  },
  {
   "cell_type": "markdown",
   "metadata": {},
   "source": [
    "\n"
   ]
  },
  {
   "cell_type": "code",
   "execution_count": null,
   "metadata": {
    "collapsed": false
   },
   "outputs": [],
   "source": [
    "pi = 3.1415\n",
    "print(\"pi=\",pi)\n",
    "print(\"pi=%15.10f\" % pi)"
   ]
  },
  {
   "cell_type": "code",
   "execution_count": null,
   "metadata": {
    "collapsed": false
   },
   "outputs": [],
   "source": [
    "# for reference, here is the old style of printing in python2 if you want to uncomment this and try it out\n",
    "# print \"pi=\",pi"
   ]
  },
  {
   "cell_type": "markdown",
   "metadata": {},
   "source": [
    "## Python Control structures\n",
    "\n",
    "Most programming languages have a few common ways to control the flow of the program. The common ones in python are\n",
    "\n",
    "* if/then/else\n",
    "* for-loop\n",
    "* while-loop\n",
    "\n",
    "While you are looking at this code, note that white-space (indentation) controls the extent of the code, and unlike other languages, there is no special **{}** symbol or **end** type statement. This forced indention is probably the single most confusing thing about those new to the python language."
   ]
  },
  {
   "cell_type": "code",
   "execution_count": null,
   "metadata": {
    "collapsed": false
   },
   "outputs": [],
   "source": [
    "n = 1\n",
    "\n",
    "# if/then/else\n",
    "if n > 0:\n",
    "    print(\"yes, n>0\")\n",
    "else:\n",
    "    print(\"not\")     \n",
    "\n",
    "# loop over a list    \n",
    "for i in [2,4,n,6]:\n",
    "    print(\"i=\",i)\n",
    "print(\"oulala, after this for loop, i=\",i)\n",
    "\n",
    "# while loop\n",
    "n = 10\n",
    "while n>0:\n",
    "    #  n = n - 2\n",
    "    print(\"whiling\",n)\n",
    "    n = n - 2\n",
    "\n",
    "print(\"last n\",n)\n",
    "        "
   ]
  },
  {
   "cell_type": "markdown",
   "metadata": {},
   "source": [
    "## Python Data Structures\n",
    "\n",
    "A list is one of four major data structures (lists, dictionaries, sets, tuples) that python uses. It is the most simple one, and has direct parallels to those in other languages such as Fortran, C/C++, Java etc.\n",
    "\n",
    "### Python Lists\n",
    "\n",
    "Python uses special symbols to make up these collection, briefly they are:\n",
    "* list:  **[1,2,3]**\n",
    "* dictionary:     **{ \"a\":1  , \"b\":2   , \"c\": 3}**\n",
    "* tuple:  **(1,2,3)**\n",
    "* set:  **{1,2,3,\"abc\"}**\n",
    "\n"
   ]
  },
  {
   "cell_type": "code",
   "execution_count": null,
   "metadata": {
    "collapsed": false
   },
   "outputs": [],
   "source": [
    "a=[1,2,3]\n",
    "a[1]=22\n",
    "print(a)\n"
   ]
  },
  {
   "cell_type": "code",
   "execution_count": null,
   "metadata": {
    "collapsed": false
   },
   "outputs": [],
   "source": [
    "a1 = [1,2,3,4]\n",
    "a2 = range(1,5)\n",
    "print(a1)\n",
    "print(a2)\n",
    "a2 = ['a',1,'cccc']\n",
    "print(a1)\n",
    "print(a2)\n",
    "a3 = range(12,20,2)\n",
    "print(a3)"
   ]
  },
  {
   "cell_type": "code",
   "execution_count": null,
   "metadata": {
    "collapsed": false
   },
   "outputs": [],
   "source": [
    "tuple(range(3))\n",
    "\n"
   ]
  },
  {
   "cell_type": "code",
   "execution_count": null,
   "metadata": {
    "collapsed": false
   },
   "outputs": [],
   "source": [
    "a1=list(range(3))\n",
    "a2=list(range(3,6))\n",
    "print(a1,a2)\n",
    "#a1=[0,1,2]\n",
    "#a2=[3,4,5]"
   ]
  },
  {
   "cell_type": "code",
   "execution_count": null,
   "metadata": {
    "collapsed": false
   },
   "outputs": [],
   "source": [
    "a1+a2"
   ]
  },
  {
   "cell_type": "markdown",
   "metadata": {},
   "source": [
    "Python lists have some interesting slicing operators that allow you to take sub-lists. See if you can figure it out from the following examples:"
   ]
  },
  {
   "cell_type": "code",
   "execution_count": null,
   "metadata": {
    "collapsed": false
   },
   "outputs": [],
   "source": [
    "a=range(10)\n",
    "print(a[2])\n",
    "print(list(a[2:4]))\n",
    "print(list(a[-2:]))\n",
    "print(list(a[2:]))\n",
    "print(list(a[:2]))"
   ]
  },
  {
   "cell_type": "markdown",
   "metadata": {},
   "source": [
    "### Math and Numeric Arrays"
   ]
  },
  {
   "cell_type": "code",
   "execution_count": null,
   "metadata": {
    "collapsed": true
   },
   "outputs": [],
   "source": [
    "import math\n",
    "import numpy as np"
   ]
  },
  {
   "cell_type": "code",
   "execution_count": null,
   "metadata": {
    "collapsed": false
   },
   "outputs": [],
   "source": [
    "math.pi\n"
   ]
  },
  {
   "cell_type": "code",
   "execution_count": null,
   "metadata": {
    "collapsed": false
   },
   "outputs": [],
   "source": [
    "np.pi\n"
   ]
  },
  {
   "cell_type": "code",
   "execution_count": null,
   "metadata": {
    "collapsed": false
   },
   "outputs": [],
   "source": [
    "a=np.arange(0,1,0.2)\n",
    "a"
   ]
  },
  {
   "cell_type": "code",
   "execution_count": null,
   "metadata": {
    "collapsed": false
   },
   "outputs": [],
   "source": [
    "b = a*a\n",
    "c = np.sqrt(a)\n",
    "print(a)\n",
    "print(b)\n",
    "print(c)"
   ]
  },
  {
   "cell_type": "code",
   "execution_count": null,
   "metadata": {
    "collapsed": true
   },
   "outputs": [],
   "source": []
  },
  {
   "cell_type": "code",
   "execution_count": null,
   "metadata": {
    "collapsed": false
   },
   "outputs": [],
   "source": [
    "# now for some plotting, using matplotlib, neatly integrated with numpy arrays\n",
    "# we are going to plot the arrays we just created\n",
    "\n",
    "# these next two lines are optional, if you want a different backend\n",
    "import matplotlib\n",
    "matplotlib.use('agg')\n",
    "\n",
    "# any command starting with % is special to ipython notebooks, it tells to produce plots inline,\n",
    "# and not externally in a different graph (although that's fun too)\n",
    "%matplotlib inline\n",
    "import matplotlib.pyplot as plt"
   ]
  },
  {
   "cell_type": "code",
   "execution_count": null,
   "metadata": {
    "collapsed": false
   },
   "outputs": [],
   "source": [
    "plt.plot(a,b,'-bo',label='b')\n",
    "plt.plot(a,c,'-ro',label='c')\n",
    "plt.legend()"
   ]
  },
  {
   "cell_type": "code",
   "execution_count": null,
   "metadata": {
    "collapsed": false,
    "scrolled": true
   },
   "outputs": [],
   "source": [
    "# purposly adding another plot in another cell... see what that does\n",
    "plt.plot(a,a+1)\n"
   ]
  },
  {
   "cell_type": "code",
   "execution_count": null,
   "metadata": {
    "collapsed": true
   },
   "outputs": [],
   "source": [
    "# plt.show() is only needed to finally plot on screen, in the case an external plot was to be produced\n",
    "plt.show()\n"
   ]
  },
  {
   "cell_type": "markdown",
   "metadata": {},
   "source": [
    "### Advanced looping : zip\n",
    "\n",
    "Sometimes it is useful to loop over an array, but still index the array, or loop over two arrays. The python **zip** command can be a life safer for this. Beware that indexing arrays this way can slow your code down."
   ]
  },
  {
   "cell_type": "code",
   "execution_count": null,
   "metadata": {
    "collapsed": false
   },
   "outputs": [],
   "source": [
    "n=5\n",
    "x = np.arange(n) * 2.0\n",
    "print(x,x.mean())\n",
    "\n",
    "for i in range(n):\n",
    "    x[i] = x[i] + 0.1\n",
    "print(x,x.mean())\n",
    "\n",
    "y = x*x \n",
    "for (i,xi,yi) in zip(range(n),x,y):\n",
    "    print(i,xi,yi)\n",
    "    y[i] = 0.0\n",
    "print(y)"
   ]
  },
  {
   "cell_type": "markdown",
   "metadata": {
    "collapsed": true
   },
   "source": [
    "# The bottom line\n",
    "\n",
    "The python **out[]** list contains all the results from each cell. That may come in handy. See what your notebook has produced so far!"
   ]
  },
  {
   "cell_type": "code",
   "execution_count": null,
   "metadata": {
    "collapsed": false
   },
   "outputs": [],
   "source": [
    "print(Out)"
   ]
  },
  {
   "cell_type": "code",
   "execution_count": null,
   "metadata": {
    "collapsed": true
   },
   "outputs": [],
   "source": []
  }
 ],
 "metadata": {
  "kernelspec": {
   "display_name": "Python 3",
   "language": "python",
   "name": "python3"
  },
  "language_info": {
   "codemirror_mode": {
    "name": "ipython",
    "version": 3
   },
   "file_extension": ".py",
   "mimetype": "text/x-python",
   "name": "python",
   "nbconvert_exporter": "python",
   "pygments_lexer": "ipython3",
   "version": "3.5.2"
  }
 },
 "nbformat": 4,
 "nbformat_minor": 0
}
