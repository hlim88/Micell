{
 "cells": [
  {
   "cell_type": "markdown",
   "metadata": {},
   "source": [
    "#  miniconda\n",
    "\n",
    "Here's a crash-course in making your own python toolkit via *miniconda*:\n",
    "\n",
    "Although it is recommended to install the full anaconda system via https://www.continuum.io/ this is an alternative if you want to cherry pick your modules and start with a very small python system. It's easy super easy to install a new python this way, since you can do it with just a few shell commands.\n",
    "\n",
    "For miniconda, head over to http://conda.pydata.org/miniconda.html and grab the latest installer and follow instructions for your architecture.\n",
    "\n",
    "Here is an example for linux 64 bit:\n",
    "```\n",
    "   wget https://repo.continuum.io/miniconda/Miniconda3-latest-Linux-x86_64.sh\n",
    "   \n",
    "   bash Miniconda3-latest-Linux-x86_64.sh\n",
    "   \n",
    "    (answer some obvious questions)\n",
    "\tI installed it in:   /data2/teuben/python/miniconda3\n",
    "\tThis modified my PATH as follows in the .bashrc file:\n",
    "\texport PATH=\"/data2/teuben/python/miniconda3/bin:$PATH\"\n",
    "\n",
    "   python --version                         (3.5.2)\n",
    "   conda install ipython\n",
    "   ipython --version                        (4.2.0)\n",
    "   conda install numpy scipy matplotlib\n",
    "   conda install yt\n",
    "   conda install jupyter\n",
    "   conda install astropy pandas scikit-learn glueviz\n",
    "   conda install anaconda-client\n",
    "```\n",
    "Now you can issue the command \n",
    "```\n",
    "   jupyter notebook\n",
    "```\n",
    "and in your browser you will now see python notebooks (ipynb files) if you are in the right directory. Since this is a lot of typing, an alias\n",
    "```\n",
    "   alias jn=\"jupyter notebook\"\n",
    "```\n",
    "would seem appropiate here.\n",
    "\n"
   ]
  },
  {
   "cell_type": "code",
   "execution_count": null,
   "metadata": {
    "collapsed": false
   },
   "outputs": [],
   "source": [
    "print(\"Hello World!\")"
   ]
  }
 ],
 "metadata": {
  "kernelspec": {
   "display_name": "Python 3",
   "language": "python",
   "name": "python3"
  },
  "language_info": {
   "codemirror_mode": {
    "name": "ipython",
    "version": 3
   },
   "file_extension": ".py",
   "mimetype": "text/x-python",
   "name": "python",
   "nbconvert_exporter": "python",
   "pygments_lexer": "ipython3",
   "version": "3.5.2"
  }
 },
 "nbformat": 4,
 "nbformat_minor": 0
}
