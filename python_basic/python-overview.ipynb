{
 "cells": [
  {
   "cell_type": "markdown",
   "metadata": {},
   "source": [
    "# Python\n",
    "\n",
    "* python  (is a scripting language, not unlike **bash**, but check out **xonsh** on http://xon.sh/ if you like to try a real python login terminal shell)\n",
    "\n",
    "```\n",
    "   % cat hello.py\n",
    "   #! /usr/bin/env python\n",
    "   #\n",
    "   print(\"Hello World\")\n",
    "   \n",
    "   % chmod +x hello.py\n",
    "   % ./hello.py\n",
    "   Hello World\n",
    "```\n",
    "\n",
    "* ipython : for interactive work\n",
    "* jupyter notebook : for managing and presenting your workflow\n",
    "\n",
    "## Concepts covered today\n",
    "\n",
    "* installing python (**miniconda3 with numpy and matplotlib**)\n",
    "* variables, printing\n",
    "* lists (and other data structures: tuples, dictionaries)\n",
    "* control flow\n",
    "* function\n",
    "* class\n",
    "* module\n"
   ]
  },
  {
   "cell_type": "code",
   "execution_count": null,
   "metadata": {
    "collapsed": true
   },
   "outputs": [],
   "source": []
  }
 ],
 "metadata": {
  "kernelspec": {
   "display_name": "Python 3",
   "language": "python",
   "name": "python3"
  },
  "language_info": {
   "codemirror_mode": {
    "name": "ipython",
    "version": 3
   },
   "file_extension": ".py",
   "mimetype": "text/x-python",
   "name": "python",
   "nbconvert_exporter": "python",
   "pygments_lexer": "ipython3",
   "version": "3.5.2"
  }
 },
 "nbformat": 4,
 "nbformat_minor": 0
}
